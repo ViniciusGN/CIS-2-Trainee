{
 "cells": [
  {
   "cell_type": "markdown",
   "metadata": {},
   "source": [
    "# Item I\n",
    "\n",
    "*Classificação binária para prever se o vinho é tinto ou não (KNN)*"
   ]
  },
  {
   "cell_type": "markdown",
   "metadata": {},
   "source": [
    "**1° Etapa:** leitura do arquivo e importação das bibliotecas"
   ]
  },
  {
   "cell_type": "code",
   "execution_count": 8,
   "metadata": {},
   "outputs": [],
   "source": [
    "import numpy as np\n",
    "import matplotlib.pyplot as plt\n",
    "from sklearn.model_selection import train_test_split"
   ]
  },
  {
   "cell_type": "markdown",
   "metadata": {},
   "source": [
    "**2° Etapa:** aplicação dos conceitos de classificação binária"
   ]
  },
  {
   "cell_type": "code",
   "execution_count": 23,
   "metadata": {},
   "outputs": [
    {
     "name": "stdout",
     "output_type": "stream",
     "text": [
      "[[5.9     0.61    0.08    ... 0.99376 3.56    0.77   ]\n",
      " [8.2     1.      0.09    ... 0.99685 3.32    0.55   ]\n",
      " [6.4     0.24    0.49    ... 0.9942  3.01    0.98   ]\n",
      " ...\n",
      " [7.9     0.33    0.28    ... 1.0103  3.15    0.38   ]\n",
      " [7.      0.3     0.28    ... 0.99166 3.2     0.57   ]\n",
      " [6.4     0.22    0.49    ... 0.9948  3.27    0.52   ]] [1. 1. 0. ... 0. 0. 0.]\n"
     ]
    }
   ],
   "source": [
    "data = np.loadtxt('winequality.csv', delimiter=',', skiprows=1)\n",
    "array = np.delete(data, 0, 1)\n",
    "X = data[:, 1:11] # excluimos o index e pegamos todos os dados exceto a ultima coluna\n",
    "y = data[:, -1]   # a ultima coluna é o target, representado pelo Is_Red_Wine\n",
    "\n",
    "print(X, y)       # Conferimos se o split foi realizado corretamente\n",
    "\n",
    "X_train, X_test, y_train, y_test = train_test_split(X, y, test_size=0.2, random_state=42)  # Dividimos os dados em treino e teste"
   ]
  },
  {
   "cell_type": "markdown",
   "metadata": {},
   "source": [
    "**3° Etapa:** Construindo as funções de classificação binária e KNN"
   ]
  },
  {
   "cell_type": "code",
   "execution_count": 27,
   "metadata": {},
   "outputs": [
    {
     "name": "stdout",
     "output_type": "stream",
     "text": [
      "Acurácia: 93.31%\n"
     ]
    }
   ],
   "source": [
    "# Aplicando classificação binária com KNN\n",
    "from sklearn.neighbors import KNeighborsClassifier\n",
    "from sklearn.metrics import accuracy_score\n",
    "\n",
    "# Criando o modelo\n",
    "k_neighbor = KNeighborsClassifier(n_neighbors=5)  # n_neighbors = número de vizinhos\n",
    "k_neighbor.fit(X_train, y_train)                  # Treinando o modelo\n",
    "\n",
    "y_pred = k_neighbor.predict(X_test)               # Fazendo a predição\n",
    "accuracy_score(y_test, y_pred)                    # Avaliando a acurácia\n",
    "\n",
    "print('Acurácia: {:.2f}%'.format(accuracy_score(y_test, y_pred)*100))"
   ]
  },
  {
   "cell_type": "markdown",
   "metadata": {},
   "source": [
    "# Item I e II\n",
    "\n",
    "*Classificação multiclasse para prever a qualidade do vinho - Aplicar ao algoritmo Random Forest e determinar quais features do dataset são mais importantes para o problema*"
   ]
  },
  {
   "cell_type": "code",
   "execution_count": 63,
   "metadata": {},
   "outputs": [
    {
     "name": "stdout",
     "output_type": "stream",
     "text": [
      "[[ 5.9   0.61  0.08 ...  3.56  0.77 11.1 ]\n",
      " [ 8.2   1.    0.09 ...  3.32  0.55  9.  ]\n",
      " [ 6.4   0.24  0.49 ...  3.01  0.98 10.5 ]\n",
      " ...\n",
      " [ 7.9   0.33  0.28 ...  3.15  0.38  8.8 ]\n",
      " [ 7.    0.3   0.28 ...  3.2   0.57 11.4 ]\n",
      " [ 6.4   0.22  0.49 ...  3.27  0.52 10.1 ]] [6. 6. 6. ... 6. 5. 6.] \n",
      "Shape X:  (6497, 11) \n",
      "Shape y:  (6497,)\n"
     ]
    }
   ],
   "source": [
    "X = data[:, 1:12]       # Vamos utilizar apenas as 11 primeiras colunas (exluindo a coluna de Index, Quality e Cor do vinho)\n",
    "y = data[:, 12]         # Coluna de Quality do vinho\n",
    "\n",
    "print( X, y, \"\\nShape X: \", X.shape, \"\\nShape y: \", y.shape)\n",
    "\n",
    "X_train2, X_test2, y_train2, y_test2 = train_test_split(X, y, test_size=0.2, random_state=42)  # Dividindo os dados em treino e teste novamente"
   ]
  },
  {
   "cell_type": "code",
   "execution_count": 65,
   "metadata": {},
   "outputs": [
    {
     "data": {
      "image/png": "[encoded data removed]",
      "text/plain": [
       "<Figure size 432x288 with 2 Axes>"
      ]
     },
     "metadata": {
      "needs_background": "light"
     },
     "output_type": "display_data"
    }
   ],
   "source": [
    "# Para prever a qualidade do vinho, primeiro extrairemos a matriz de correlação\n",
    "# Centralizar os dados\n",
    "data_centered = data - np.mean(data, axis=0)\n",
    "\n",
    "# Calcular a matriz de covariância\n",
    "cov_matrix = np.cov(data_centered, rowvar=False)\n",
    "\n",
    "# Calcular as raízes quadradas das variâncias das variáveis correspondentes\n",
    "sqrt_variances = np.sqrt(np.diag(cov_matrix))\n",
    "\n",
    "# Normalizar a matriz de covariância para obter a matriz de correlação\n",
    "correlation_matrix = cov_matrix / np.outer(sqrt_variances, sqrt_variances)\n",
    "\n",
    "# Plotar o gráfico da matriz de correlação\n",
    "plt.imshow(correlation_matrix, cmap='viridis', interpolation='nearest')\n",
    "plt.colorbar()\n",
    "plt.title('Matriz de Correlação')\n",
    "plt.xticks(np.arange(data.shape[1]))\n",
    "plt.yticks(np.arange(data.shape[1]))\n",
    "plt.show()"
   ]
  },
  {
   "cell_type": "code",
   "execution_count": 66,
   "metadata": {},
   "outputs": [
    {
     "name": "stdout",
     "output_type": "stream",
     "text": [
      "Acurácia: 68.92%\n"
     ]
    }
   ],
   "source": [
    "# Aplica o modelo de Random Forest\n",
    "from sklearn.ensemble import RandomForestClassifier\n",
    "\n",
    "# Cria o modelo\n",
    "forest = RandomForestClassifier(n_estimators=100)\n",
    "forest.fit(X_train2, y_train2)\n",
    "y_pred2 = forest.predict(X_test2)\n",
    "\n",
    "# Mede a acurácia\n",
    "print('Acurácia: {:.2f}%'.format(accuracy_score(y_test2, y_pred2)*100))"
   ]
  },
  {
   "cell_type": "markdown",
   "metadata": {},
   "source": [
    "# Item III\n",
    "\n",
    "**RANDON FOREST E O RESULTADO ENCONTRADO:**\n",
    "\n",
    "Com uma acurácia de 68%, percebemos que o modelo foi insuficiente para prever o resultado dos dados. Vamos extrair a matriz de confusão para entender melhor o que aconteceu e verificar o Feature Importance para entender quais variáveis foram mais importantes para o modelo."
   ]
  },
  {
   "cell_type": "code",
   "execution_count": 69,
   "metadata": {},
   "outputs": [
    {
     "data": {
      "image/png": "[encoded data removed]",
      "text/plain": [
       "<Figure size 432x288 with 2 Axes>"
      ]
     },
     "metadata": {
      "needs_background": "light"
     },
     "output_type": "display_data"
    },
    {
     "data": {
      "image/png": "[encoded data removed]",
      "text/plain": [
       "<Figure size 720x432 with 1 Axes>"
      ]
     },
     "metadata": {
      "needs_background": "light"
     },
     "output_type": "display_data"
    }
   ],
   "source": [
    "from sklearn.metrics import accuracy_score, confusion_matrix  # Usaremos a matriz de confusão para avaliar o modelo\n",
    "\n",
    "cm = confusion_matrix(y_test2,y_pred2)\n",
    "\n",
    "# Plotar a matriz de confusão como uma imagem\n",
    "plt.imshow(cm, interpolation='nearest', cmap=plt.cm.Greens)\n",
    "plt.colorbar()\n",
    "plt.xlabel(\"Classes Previstas\")\n",
    "plt.ylabel(\"Classes Verdadeiras\")\n",
    "plt.title(\"Matriz de Confusão\")\n",
    "plt.show()\n",
    "\n",
    "# Lista de nomes das features\n",
    "feature_names = ['Acidez Fixa', 'Acidez Volatil', 'Acidez Citrica', 'Açucar Residual', 'Cloretos', 'Dióxido Sulfurico Livre', 'Dióxido Sulfurico Total', 'Densidade', 'pH', 'Sulfatos', 'Alcool']\n",
    "importance = forest.feature_importances_\n",
    "# Plotar o gráfico de barras com a importância das features\n",
    "plt.figure(figsize=(10, 6))  # Ajuste o tamanho da figura, se necessário\n",
    "plt.barh(range(len(importance)), importance, tick_label=feature_names, color='green')\n",
    "plt.xlabel('Importância')\n",
    "plt.ylabel('Features')\n",
    "plt.title('Importância das Features - Random Forest')\n",
    "plt.show()"
   ]
  },
  {
   "cell_type": "markdown",
   "metadata": {},
   "source": [
    "# Item IV\n",
    "\n",
    "Aplicar a normalização nos dados e verificar os efeitos nos modelos"
   ]
  },
  {
   "cell_type": "code",
   "execution_count": 84,
   "metadata": {},
   "outputs": [
    {
     "name": "stdout",
     "output_type": "stream",
     "text": [
      "Acurácia KNN Model: 58.15%\n",
      "Acurácia RF Model: 68.85%\n"
     ]
    }
   ],
   "source": [
    "from sklearn.preprocessing import MinMaxScaler  # for normalization\n",
    "X = data[:, 1:12]                               # Vamos utilizar apenas as 11 primeiras colunas (exluindo a coluna de Index, Quality e Cor do vinho)\n",
    "y = data[:, 12]                                 # A coluna 12 é a coluna de qualidade do vinho\n",
    "scaler = MinMaxScaler()                         # default=(0, 1)\n",
    "X_normalizado = scaler.fit_transform(X, y)           # X_scaled is a numpy array\n",
    "\n",
    "X_train, X_test, y_train, y_test = train_test_split(X_normalizado, y, test_size=0.2, random_state=42) # 80% training and 20% test\n",
    "\n",
    "# Aplicando novamente os modelos KNN e Random Forest\n",
    "k_neighbor = KNeighborsClassifier(n_neighbors=5)  # n_neighbors = número de vizinhos\n",
    "k_neighbor.fit(X_train, y_train)                  # Treinando o modelo\n",
    "\n",
    "y_pred = k_neighbor.predict(X_test)               # Fazendo a predição\n",
    "acr_knn = accuracy_score(y_test, y_pred)\n",
    "\n",
    "# -------------------------------------------------\n",
    "\n",
    "forest = RandomForestClassifier(n_estimators=100)\n",
    "forest.fit(X_train, y_train)\n",
    "y_pred2 = forest.predict(X_test)\n",
    "acr_rf = accuracy_score(y_test, y_pred2)\n",
    "\n",
    "print('Acurácia KNN Model: {:.2f}%'.format(acr_knn*100))\n",
    "print('Acurácia RF Model: {:.2f}%'.format(acr_rf*100))\n"
   ]
  },
  {
   "cell_type": "markdown",
   "metadata": {},
   "source": [
    "**Observação:** Acabei verificando que o modelo KNN é extremamente insuficiente para a abordagem do problema, porém a normalização dos dados não foi suficiente para aumentar significativamente a acurácia do modelo Randon Forest. Achei uma fonte na internet descrita no README que realizou uma análise da quantidade de vinhos por grau de qualidade, portanto, importei a mesma interpretação do modelo."
   ]
  },
  {
   "cell_type": "code",
   "execution_count": 88,
   "metadata": {},
   "outputs": [
    {
     "data": {
      "text/plain": [
       "Text(0, 0.5, 'Frequência')"
      ]
     },
     "execution_count": 88,
     "metadata": {},
     "output_type": "execute_result"
    },
    {
     "data": {
      "image/png": "[encoded data removed]",
      "text/plain": [
       "<Figure size 432x288 with 1 Axes>"
      ]
     },
     "metadata": {
      "needs_background": "light"
     },
     "output_type": "display_data"
    }
   ],
   "source": [
    "quality = data[:, 12:13]\n",
    "\n",
    "plt.hist(quality, bins=7, color='green', edgecolor='black', linewidth=1.2)\n",
    "plt.xlabel('Nível de Qualidade')\n",
    "plt.ylabel('Frequência')"
   ]
  }
 ],
 "metadata": {
  "kernelspec": {
   "display_name": "base",
   "language": "python",
   "name": "python3"
  },
  "language_info": {
   "codemirror_mode": {
    "name": "ipython",
    "version": 3
   },
   "file_extension": ".py",
   "mimetype": "text/x-python",
   "name": "python",
   "nbconvert_exporter": "python",
   "pygments_lexer": "ipython3",
   "version": "3.8.5"
  },
  "orig_nbformat": 4
 },
 "nbformat": 4,
 "nbformat_minor": 2
}
